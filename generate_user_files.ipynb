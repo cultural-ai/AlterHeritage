{
 "cells": [
  {
   "cell_type": "code",
   "execution_count": 9,
   "id": "60edce16-bbf0-4543-bfe3-a29a1434ad34",
   "metadata": {},
   "outputs": [],
   "source": [
    "import json\n",
    "import random\n",
    "import string"
   ]
  },
  {
   "cell_type": "markdown",
   "id": "df846213-4e2c-4425-99dd-652ad1fe77b1",
   "metadata": {},
   "source": [
    "### Generating user files"
   ]
  },
  {
   "cell_type": "code",
   "execution_count": 26,
   "id": "be6a544b-ffe0-4722-b901-50a15f08870c",
   "metadata": {},
   "outputs": [],
   "source": [
    "def generate_user_id(n_users:int) -> list:\n",
    "    '''\n",
    "    Generating unique random user IDs\n",
    "    n_users: int, number of users to generate IDs for\n",
    "    Returns a list of str\n",
    "    '''\n",
    "\n",
    "    user_ids_return = []\n",
    "    \n",
    "    for i in range(n_users):\n",
    "\n",
    "        # 2 letters: uppercase and lowercase\n",
    "        letters = random.choice(string.ascii_uppercase) + random.choice(string.ascii_lowercase)\n",
    "        # 3 digits\n",
    "        digits = ''.join(random.choices(string.digits, k=3))\n",
    "        # shuffle\n",
    "        user_id = list(letters + digits)\n",
    "        random.shuffle(user_id)\n",
    "\n",
    "        user_ids_return.append(''.join(user_id))\n",
    "    \n",
    "    return user_ids_return"
   ]
  },
  {
   "cell_type": "code",
   "execution_count": 64,
   "id": "539aec89-bb1f-4579-ab1b-754aa1c2aea5",
   "metadata": {},
   "outputs": [],
   "source": [
    "def generate_user_files(objects_by_user:dict, path_to_save='', suffix='') -> str:\n",
    "    '''\n",
    "    Generates 5 files per user: (1) original_{user_ID}.json, (2) user_{user_ID}.json, (3) consent_{user_ID}.json,\n",
    "    (4) responses_{user_ID}.json, (5) submitted_{user_ID}.json\n",
    "    objects_by_user: dict, objects assigned to users; the keys should be user IDs, the values are lists of object IDs\n",
    "    path_to_save: str, where to save the files; '' is default\n",
    "    suffix: str, if to add a suffix to file names; '' is default\n",
    "    '''\n",
    "\n",
    "    # import all objects metadata\n",
    "    with open(\"/Users/anesterov/reps/MetadataEditorWebApp/all_objects.json\",'r') as jf:\n",
    "        all_objects = json.load(jf)\n",
    "\n",
    "    if suffix != '':\n",
    "        suffix = f\"_{suffix}\"\n",
    "\n",
    "    responses = {}\n",
    "    submitted = {}\n",
    "\n",
    "    for user_id, objects in objects_by_user.items():\n",
    "        \n",
    "        # consent\n",
    "        consent = {user_id: \"False\"}\n",
    "        \n",
    "        with open(f\"{path_to_save}consent_{user_id}{suffix}.json\", 'w') as jf:\n",
    "            json.dump(consent, jf)\n",
    "\n",
    "        # original and user files\n",
    "        user_and_original = {\"user_id\":user_id}\n",
    "        object_list = []\n",
    "\n",
    "        for object_data in all_objects[\"objects\"]:\n",
    "            if object_data[\"object_id\"] in objects:\n",
    "                object_list.append(object_data)\n",
    "\n",
    "        random.shuffle(object_list)\n",
    "        user_and_original[\"objects\"] = object_list\n",
    "\n",
    "        with open(f\"{path_to_save}original_{user_id}{suffix}.json\", 'w') as jf:\n",
    "                    json.dump(user_and_original, jf, indent=4)\n",
    "            \n",
    "        with open(f\"{path_to_save}user_{user_id}{suffix}.json\", 'w') as jf:\n",
    "                    json.dump(user_and_original, jf, indent=4)\n",
    "\n",
    "        \n",
    "        # responses and submitted files\n",
    "        for obj in objects:\n",
    "            responses[obj] = {\"q1\": \"\", \"q2\": \"\", \"q3\": \"\", \"q4\": \"\", \"q5\": \"\"}\n",
    "            submitted[obj] = \"False\"\n",
    "\n",
    "        with open(f\"{path_to_save}responses_{user_id}{suffix}.json\", 'w') as jf:\n",
    "            json.dump(responses, jf, indent=4)\n",
    "\n",
    "        with open(f\"{path_to_save}submitted_{user_id}{suffix}.json\", 'w') as jf:\n",
    "            json.dump(submitted, jf, indent=4)\n",
    "        "
   ]
  },
  {
   "cell_type": "code",
   "execution_count": 16,
   "id": "888526e8-3fdc-4092-ac67-a1ae4bf1b832",
   "metadata": {},
   "outputs": [],
   "source": [
    "### pilot user files"
   ]
  },
  {
   "cell_type": "code",
   "execution_count": 19,
   "id": "7a37003a-de6c-47c9-9d22-72162f64a305",
   "metadata": {},
   "outputs": [],
   "source": [
    "with open(\"/Users/anesterov/reps/MetadataEditorWebApp/pilot_objects.json\",'r') as jf:\n",
    "        pilot_objects = json.load(jf)"
   ]
  },
  {
   "cell_type": "code",
   "execution_count": 61,
   "id": "d9b62af1-954b-43d5-b491-9ef80780c308",
   "metadata": {},
   "outputs": [],
   "source": [
    "# make user-objects dict\n",
    "pilot_user_objects = {}\n",
    "\n",
    "# generate user IDs\n",
    "pilot_user_ids = generate_user_id(3)\n",
    "\n",
    "# add suffix to IDs\n",
    "pilot_ids_suffix = [i + '_p' for i in pilot_user_ids]\n",
    "\n",
    "for p in pilot_ids_suffix:\n",
    "    pilot_user_objects[p] = pilot_objects"
   ]
  },
  {
   "cell_type": "code",
   "execution_count": 66,
   "id": "612b3055-ab21-4fbb-ba50-cc7d3c821adc",
   "metadata": {},
   "outputs": [],
   "source": [
    "generate_user_files(pilot_user_objects,path_to_save='/Users/anesterov/reps/MetadataEditorWebApp/metadata_editor/http_root/objects/')"
   ]
  },
  {
   "cell_type": "code",
   "execution_count": null,
   "id": "0f773ab4-0532-43a0-9c5b-4bea72a36c64",
   "metadata": {},
   "outputs": [],
   "source": []
  }
 ],
 "metadata": {
  "kernelspec": {
   "display_name": "Python 3",
   "language": "python",
   "name": "python3"
  },
  "language_info": {
   "codemirror_mode": {
    "name": "ipython",
    "version": 3
   },
   "file_extension": ".py",
   "mimetype": "text/x-python",
   "name": "python",
   "nbconvert_exporter": "python",
   "pygments_lexer": "ipython3",
   "version": "3.8.5"
  }
 },
 "nbformat": 4,
 "nbformat_minor": 5
}
